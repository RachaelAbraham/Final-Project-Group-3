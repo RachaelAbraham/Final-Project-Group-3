{
 "cells": [
  {
   "cell_type": "code",
   "execution_count": 39,
   "metadata": {
    "id": "N7M8dXMl6CIg"
   },
   "outputs": [],
   "source": [
    "# Import libraries\n",
    "import numpy as np\n",
    "import pandas as pd\n",
    "import sklearn as sk\n",
    "import time\n",
    "from keras.models import Sequential, load_model\n",
    "from keras.layers import Dense, Dropout, Flatten\n",
    "from keras import optimizers\n",
    "from keras import backend as K\n",
    "from keras import regularizers\n",
    "from keras import initializers\n",
    "from matplotlib import pyplot as plt\n",
    "from tensorflow import keras\n",
    "from sklearn.model_selection import train_test_split\n",
    "from sklearn.preprocessing import StandardScaler\n",
    "from tensorflow.keras import layers\n",
    "import keras_tuner as kt\n",
    "from kerastuner.tuners import RandomSearch\n",
    "from tensorflow import keras\n",
    "from kerastuner.engine.hyperparameters import HyperParameters\n",
    "import os\n",
    "import imageio as iio\n",
    "import shutil\n",
    "import tensorflow as tf"
   ]
  },
  {
   "cell_type": "code",
   "execution_count": 17,
   "metadata": {
    "colab": {
     "base_uri": "https://localhost:8080/",
     "height": 411
    },
    "id": "O1B4BHvCfN0V",
    "outputId": "ebf2290a-5a5a-4c9e-d193-6897bd85a6b6"
   },
   "outputs": [],
   "source": [
    "df = pd.read_csv('Data.csv', encoding= 'unicode_escape')\n",
    "# satellite data \n",
    "df_night_lights = pd.read_csv('nighttime_lights_data.csv', encoding= 'unicode_escape')"
   ]
  },
  {
   "cell_type": "code",
   "execution_count": 18,
   "metadata": {
    "id": "s9Azr9UwlNvs"
   },
   "outputs": [],
   "source": [
    "# Remove 3 raw data columns: Less than HS Diploma, HS Diploma, Associate's Degree\n",
    "df = df.drop(['Less.than.a.high.school.diploma..2007.11','High.school.diploma.only..2007.11', 'Some.college.or.associate.s.degree..2007.11'], axis=1)\n",
    "df.drop(columns = ['Unnamed: 0'], inplace=True)\n",
    "# Remove 3 more columns: Civilian_labor_force_2013\tEmployed_2013\tUnemployed_2013\n",
    "df = df.drop(['Civilian_labor_force_2013',\t\"Employed_2013\",\t\"Unemployed_2013\"], axis=1)\n",
    "# Binary variable: High Probability of Bachelors Degree (1) vs Low Probability of Bachelors Degree (0)\n",
    "df.loc[df['Percent.of.adults.with.a.bachelor.s.degree.or.higher.2007.11'] <= 17.2, 'Binary Prob'] = 1\n",
    "df.loc[df['Percent.of.adults.with.a.bachelor.s.degree.or.higher.2007.11'] > 17.2, 'Binary Prob'] = 0\n",
    "# Remove high correlation columns from df: Percent.of.adults.with.less.than.a.high.school.diploma..2007.11\tPercent.of.adults.with.a.high.school.diploma.only..2007.11\tPercent.of.adults.completing.some.college.or.associate.s.degree..2007.1\n",
    "df = df.drop(['Percent.of.adults.with.less.than.a.high.school.diploma..2007.11',\n",
    "              'Percent.of.adults.with.a.high.school.diploma.only..2007.11',\n",
    "              'Percent.of.adults.completing.some.college.or.associate.s.degree..2007.11', \n",
    "              'Bachelor.s.degree.or.higher..2007.11'], axis=1)"
   ]
  },
  {
   "cell_type": "code",
   "execution_count": 19,
   "metadata": {
    "id": "lox2WxO80dOx"
   },
   "outputs": [],
   "source": [
    "df['SNAP'] = df['SNAP'].str.replace(',', '').astype(float)\n",
    "# to numeric exept for key\n",
    "df[[x for x in df.columns if x !='State_County_Name']] = df[[x for x in df.columns if x !='State_County_Name']].apply(pd.to_numeric)\n",
    "df = df.replace(np.nan, 0)\n",
    "# Dropping County/State column\n",
    "df2 = df.copy()"
   ]
  },
  {
   "cell_type": "code",
   "execution_count": 27,
   "metadata": {
    "id": "JYpt-osor5km"
   },
   "outputs": [],
   "source": [
    "# merge with night time lights\n",
    "data_model = pd.merge(df2, df_night_lights, on ='State_County_Name', how = 'left') \n",
    "data_model.dropna(inplace=True)\n",
    "data_model.to_csv('data_model.csv')"
   ]
  },
  {
   "cell_type": "markdown",
   "metadata": {},
   "source": [
    "# CNN"
   ]
  },
  {
   "cell_type": "code",
   "execution_count": 6,
   "metadata": {},
   "outputs": [],
   "source": [
    "# parameters\n",
    "img_height = 180\n",
    "img_width = 180"
   ]
  },
  {
   "cell_type": "code",
   "execution_count": 122,
   "metadata": {
    "scrolled": true
   },
   "outputs": [
    {
     "name": "stdout",
     "output_type": "stream",
     "text": [
      "0.01546551190844417\n",
      "0.03093102381688834\n",
      "0.04639653572533251\n",
      "0.06186204763377668\n",
      "0.07732755954222084\n",
      "0.09279307145066502\n",
      "0.10825858335910919\n",
      "0.12372409526755336\n",
      "0.13918960717599752\n",
      "0.15465511908444168\n",
      "0.17012063099288585\n",
      "0.18558614290133005\n",
      "0.20105165480977422\n",
      "0.21651716671821838\n",
      "0.23198267862666255\n",
      "0.24744819053510672\n",
      "0.2629137024435509\n",
      "0.27837921435199503\n",
      "0.2938447262604392\n",
      "0.30931023816888337\n",
      "0.32477575007732756\n",
      "0.3402412619857717\n",
      "0.3557067738942159\n",
      "0.3711722858026601\n",
      "0.38663779771110424\n",
      "0.40210330961954843\n",
      "0.4175688215279926\n",
      "0.43303433343643677\n",
      "0.4484998453448809\n",
      "0.4639653572533251\n",
      "0.47943086916176925\n",
      "0.49489638107021344\n",
      "0.5103618929786576\n",
      "0.5258274048871018\n",
      "0.5412929167955459\n",
      "0.5567584287039901\n",
      "0.5722239406124343\n",
      "0.5876894525208785\n",
      "0.6031549644293226\n",
      "0.6186204763377667\n",
      "0.634085988246211\n",
      "0.6495515001546551\n",
      "0.6650170120630993\n",
      "0.6804825239715434\n",
      "0.6959480358799877\n",
      "0.7114135477884318\n",
      "0.7268790596968759\n",
      "0.7423445716053202\n",
      "0.7578100835137643\n",
      "0.7732755954222085\n",
      "0.7887411073306526\n",
      "0.8042066192390969\n",
      "0.819672131147541\n",
      "0.8351376430559851\n",
      "0.8506031549644293\n",
      "0.8660686668728735\n",
      "0.8815341787813177\n",
      "0.8969996906897618\n",
      "0.912465202598206\n",
      "0.9279307145066502\n",
      "0.9433962264150944\n",
      "0.9588617383235385\n",
      "0.9743272502319826\n",
      "0.9897927621404269\n"
     ]
    }
   ],
   "source": [
    "# separate images into two folders, according to label\n",
    "# excecute only once\n",
    "ims_list = os.listdir(\"images\\county_images\")\n",
    "N = len(ims_list)\n",
    "n = 0\n",
    "for im in ims_list:\n",
    "    im_num = int(im[:-4])\n",
    "    unique_data = data_model.countyns.unique()\n",
    "    if im_num in unique_data:\n",
    "        label = data_model[data_model.countyns == int(im[:-4])]['Binary Prob'].values[0]\n",
    "        src = \"images\\county_images\\{}\".format(im)\n",
    "        dst = \"images\\county_images_labeled\\{}\\{}\".format(str(label)[0],im)\n",
    "        shutil.copy2(src, dst)\n",
    "    n+=1\n",
    "    if n%50 ==0:\n",
    "        print(n/N)"
   ]
  },
  {
   "cell_type": "code",
   "execution_count": 37,
   "metadata": {},
   "outputs": [],
   "source": [
    "#Load data using keras utils\n",
    "def set_model_data(batch_size): \n",
    "\n",
    "    train_ds = tf.keras.utils.image_dataset_from_directory(\n",
    "        \"images\\county_images_labeled\",\n",
    "        validation_split=0.2,\n",
    "        subset=\"training\",\n",
    "        seed=1337,\n",
    "        image_size=(img_height, img_width),\n",
    "        batch_size=batch_size,\n",
    "    )\n",
    "\n",
    "    test_ds = tf.keras.utils.image_dataset_from_directory(\n",
    "        \"images\\county_images_labeled\",\n",
    "        validation_split=0.2,\n",
    "        subset=\"validation\",\n",
    "        seed=1337,\n",
    "        image_size=(img_height, img_width),\n",
    "        batch_size=batch_size,\n",
    "    )\n",
    "    return train_ds, test_ds"
   ]
  },
  {
   "cell_type": "markdown",
   "metadata": {},
   "source": [
    "## MANUAL grid search for batch size, epochs, learning_rate "
   ]
  },
  {
   "cell_type": "code",
   "execution_count": 8,
   "metadata": {},
   "outputs": [],
   "source": [
    "num_classes = 2\n",
    "#Build model \n",
    "def build_model(epochs, learning_rate,train_ds, test_ds):\n",
    "    model = Sequential([\n",
    "      layers.Rescaling(1./255, input_shape=(img_height, img_width, 3)), #Standardize the data\n",
    "      layers.Conv2D(32, 3, padding='same', activation='relu'),\n",
    "      layers.MaxPooling2D(),\n",
    "      layers.Conv2D(32, 3, padding='same', activation='relu'),\n",
    "      layers.MaxPooling2D(),\n",
    "      layers.Conv2D(64, 3, padding='same', activation='relu'),\n",
    "      layers.MaxPooling2D(),\n",
    "      layers.Flatten(),\n",
    "      layers.Dense(128, activation='relu'),\n",
    "      layers.Dense(num_classes)\n",
    "    ])\n",
    "\n",
    "    #Momentum Stochastic Gradient Descent \n",
    "    sgd = keras.optimizers.SGD(learning_rate=learning_rate, momentum=0.9, nesterov=True)\n",
    "\n",
    "    model.compile(optimizer=sgd,\n",
    "                  loss=tf.keras.losses.SparseCategoricalCrossentropy(from_logits=True),\n",
    "                  metrics=['accuracy'])\n",
    "\n",
    "\n",
    "    history = model.fit(\n",
    "      train_ds,\n",
    "      validation_data=test_ds,\n",
    "      epochs=epochs)\n",
    "    \n",
    "    perf = model.evaluate(test_ds)\n",
    "    print(perf)\n",
    "    \n",
    "    return perf\n",
    "    "
   ]
  },
  {
   "cell_type": "code",
   "execution_count": 9,
   "metadata": {
    "scrolled": true
   },
   "outputs": [
    {
     "name": "stdout",
     "output_type": "stream",
     "text": [
      "Found 3199 files belonging to 2 classes.\n",
      "Using 2560 files for training.\n",
      "Found 3199 files belonging to 2 classes.\n",
      "Using 639 files for validation.\n",
      "Epoch 1/15\n",
      "13/13 [==============================] - 42s 3s/step - loss: 0.6953 - accuracy: 0.5000 - val_loss: 0.6853 - val_accuracy: 0.5931\n",
      "Epoch 2/15\n",
      "13/13 [==============================] - 43s 3s/step - loss: 0.6809 - accuracy: 0.5980 - val_loss: 0.6785 - val_accuracy: 0.6072\n",
      "Epoch 3/15\n",
      "13/13 [==============================] - 41s 3s/step - loss: 0.6726 - accuracy: 0.6164 - val_loss: 0.6722 - val_accuracy: 0.6103\n",
      "Epoch 4/15\n",
      "13/13 [==============================] - 43s 3s/step - loss: 0.6666 - accuracy: 0.6094 - val_loss: 0.6674 - val_accuracy: 0.6056\n",
      "Epoch 5/15\n",
      "13/13 [==============================] - 42s 3s/step - loss: 0.6593 - accuracy: 0.6262 - val_loss: 0.6618 - val_accuracy: 0.6182\n",
      "Epoch 6/15\n",
      "13/13 [==============================] - 43s 3s/step - loss: 0.6533 - accuracy: 0.6328 - val_loss: 0.6587 - val_accuracy: 0.6197\n",
      "Epoch 7/15\n",
      "13/13 [==============================] - 42s 3s/step - loss: 0.6482 - accuracy: 0.6266 - val_loss: 0.6546 - val_accuracy: 0.6291\n",
      "Epoch 8/15\n",
      "13/13 [==============================] - 43s 3s/step - loss: 0.6460 - accuracy: 0.6355 - val_loss: 0.6499 - val_accuracy: 0.6275\n",
      "Epoch 9/15\n",
      "13/13 [==============================] - 42s 3s/step - loss: 0.6413 - accuracy: 0.6363 - val_loss: 0.6511 - val_accuracy: 0.6244\n",
      "Epoch 10/15\n",
      "13/13 [==============================] - 43s 3s/step - loss: 0.6398 - accuracy: 0.6309 - val_loss: 0.6447 - val_accuracy: 0.6385\n",
      "Epoch 11/15\n",
      "13/13 [==============================] - 46s 3s/step - loss: 0.6371 - accuracy: 0.6383 - val_loss: 0.6432 - val_accuracy: 0.6354\n",
      "Epoch 12/15\n",
      "13/13 [==============================] - 44s 3s/step - loss: 0.6359 - accuracy: 0.6277 - val_loss: 0.6431 - val_accuracy: 0.6338\n",
      "Epoch 13/15\n",
      "13/13 [==============================] - 44s 3s/step - loss: 0.6341 - accuracy: 0.6348 - val_loss: 0.6408 - val_accuracy: 0.6322\n",
      "Epoch 14/15\n",
      "13/13 [==============================] - 45s 3s/step - loss: 0.6342 - accuracy: 0.6371 - val_loss: 0.6399 - val_accuracy: 0.6338\n",
      "Epoch 15/15\n",
      "13/13 [==============================] - 42s 3s/step - loss: 0.6298 - accuracy: 0.6406 - val_loss: 0.6412 - val_accuracy: 0.6275\n",
      "4/4 [==============================] - 4s 354ms/step - loss: 0.6412 - accuracy: 0.6275\n",
      "[0.6411923766136169, 0.627543032169342]\n",
      "[200, 15, 0.001, 0.6411923766136169, 0.627543032169342]\n",
      "Epoch 1/15\n",
      "13/13 [==============================] - 40s 2s/step - loss: 0.7018 - accuracy: 0.4973 - val_loss: 0.6976 - val_accuracy: 0.4867\n",
      "Epoch 2/15\n",
      "13/13 [==============================] - 44s 3s/step - loss: 0.6932 - accuracy: 0.4984 - val_loss: 0.6928 - val_accuracy: 0.5102\n",
      "Epoch 3/15\n",
      "13/13 [==============================] - 41s 3s/step - loss: 0.6910 - accuracy: 0.5391 - val_loss: 0.6910 - val_accuracy: 0.5509\n",
      "Epoch 4/15\n",
      "13/13 [==============================] - 47s 3s/step - loss: 0.6892 - accuracy: 0.5723 - val_loss: 0.6896 - val_accuracy: 0.5728\n",
      "Epoch 5/15\n",
      "13/13 [==============================] - 42s 3s/step - loss: 0.6873 - accuracy: 0.5895 - val_loss: 0.6881 - val_accuracy: 0.5806\n",
      "Epoch 6/15\n",
      "13/13 [==============================] - 41s 3s/step - loss: 0.6857 - accuracy: 0.5938 - val_loss: 0.6870 - val_accuracy: 0.5931\n",
      "Epoch 7/15\n",
      "13/13 [==============================] - 44s 3s/step - loss: 0.6844 - accuracy: 0.5980 - val_loss: 0.6859 - val_accuracy: 0.5947\n",
      "Epoch 8/15\n",
      "13/13 [==============================] - 42s 3s/step - loss: 0.6832 - accuracy: 0.5988 - val_loss: 0.6848 - val_accuracy: 0.5978\n",
      "Epoch 9/15\n",
      "13/13 [==============================] - 45s 3s/step - loss: 0.6819 - accuracy: 0.5977 - val_loss: 0.6838 - val_accuracy: 0.6025\n",
      "Epoch 10/15\n",
      "13/13 [==============================] - 45s 3s/step - loss: 0.6807 - accuracy: 0.6008 - val_loss: 0.6828 - val_accuracy: 0.5962\n",
      "Epoch 11/15\n",
      "13/13 [==============================] - 43s 3s/step - loss: 0.6797 - accuracy: 0.6008 - val_loss: 0.6820 - val_accuracy: 0.6088\n",
      "Epoch 12/15\n",
      "13/13 [==============================] - 41s 3s/step - loss: 0.6787 - accuracy: 0.6078 - val_loss: 0.6809 - val_accuracy: 0.6025\n",
      "Epoch 13/15\n",
      "13/13 [==============================] - 41s 2s/step - loss: 0.6776 - accuracy: 0.6023 - val_loss: 0.6802 - val_accuracy: 0.6056\n",
      "Epoch 14/15\n",
      "13/13 [==============================] - 43s 3s/step - loss: 0.6764 - accuracy: 0.6098 - val_loss: 0.6792 - val_accuracy: 0.6103\n",
      "Epoch 15/15\n",
      "13/13 [==============================] - 41s 2s/step - loss: 0.6754 - accuracy: 0.6121 - val_loss: 0.6783 - val_accuracy: 0.6119\n",
      "4/4 [==============================] - 5s 392ms/step - loss: 0.6783 - accuracy: 0.6119\n",
      "[0.678347110748291, 0.6118935942649841]\n",
      "[200, 15, 0.0001, 0.678347110748291, 0.6118935942649841]\n"
     ]
    }
   ],
   "source": [
    "list_hyper = []\n",
    "for batch_size in [50,100,200]:\n",
    "    train_ds, test_ds = set_model_data(batch_size)\n",
    "    for epochs in [5,10,15]:\n",
    "        for learning_rate in [0.1, 0.001, 0.0001]: \n",
    "            perf = build_model(epochs, learning_rate,train_ds, test_ds)\n",
    "            new_perf = [batch_size,epochs,learning_rate] +perf\n",
    "            print(new_perf)\n",
    "            list_hyper += [new_perf]"
   ]
  },
  {
   "cell_type": "code",
   "execution_count": null,
   "metadata": {},
   "outputs": [],
   "source": [
    "# results \n",
    "# [50, 5, 0.1, 0.6932075619697571, 0.4866979718208313],\n",
    "# [50, 5, 0.001, 0.7048906087875366, 0.4976525902748108],\n",
    "# [50, 5, 0.0001, 0.6763412952423096, 0.6071987748146057],\n",
    "# [50, 10, 0.1, np.nan, 0.4866979718208313],\n",
    "# [50, 10, 0.001, 0.6395555138587952, 0.6306729316711426],\n",
    "# [50, 10, 0.0001, 0.6591957211494446, 0.6431924700737],\n",
    "# [50, 15, 0.1, 0.6929979920387268, 0.5133020281791687],\n",
    "# [50, 15, 0.001, 0.644537627696991, 0.6150234937667847],\n",
    "# [50, 15, 0.0001, 0.6503545641899109, 0.6400625705718994],\n",
    "# [100, 5, 0.1, 0.6928322911262512, 0.5133020281791687],\n",
    "# [100, 5, 0.001, 0.6462869644165039, 0.6259781122207642],\n",
    "# [100, 5, 0.0001, 0.6756465435028076, 0.6165884137153625],\n",
    "# [100, 10, 0.1, 1.0789508819580078, 0.4866979718208313],\n",
    "# [100, 10, 0.001, 0.6362870931625366, 0.6338028311729431],\n",
    "# [100, 10, 0.0001, 0.6537830233573914, 0.6384976506233215],\n",
    "# [100, 15, 0.1, 0.7040420770645142, 0.5133020281791687],\n",
    "# [100, 15, 0.001, 0.6354638338088989, 0.6259781122207642],\n",
    "# [100, 15, 0.0001, 0.6609286069869995, 0.6306729316711426],\n",
    "# [200, 5, 0.1, np.nan, 0.4866979718208313],\n",
    "# [200, 5, 0.001, 0.6624321937561035, 0.6338028311729431],\n",
    "# [200, 5, 0.0001, 0.6879937648773193, 0.5492957830429077],\n",
    "# [200, 10, 0.1, 0.6939690113067627, 0.4866979718208313],\n",
    "# [200, 10, 0.001, 0.6502730250358582, 0.6181533932685852],\n",
    "# [200, 10, 0.0001, 0.6720231175422668, 0.6150234937667847],\n",
    "# [200, 15, 0.1, 0.6928034424781799, 0.5133020281791687],\n",
    "# [200, 15, 0.0001, 0.678347110748291, 0.6118935942649841],\n",
    "# [200, 15, 0.0001, 0.678347110748291, 0.6118935942649841]"
   ]
  },
  {
   "cell_type": "markdown",
   "metadata": {},
   "source": [
    "## MANUAL grid search for activation function and initializer"
   ]
  },
  {
   "cell_type": "code",
   "execution_count": null,
   "metadata": {},
   "outputs": [],
   "source": [
    "initializer1 = initializers.RandomNormal(mean=0,stddev=1/np.sqrt(213),seed=0)\n",
    "initializer2 = tf.keras.initializers.Constant()\n",
    "initializer3 = tf.keras.initializers.Orthogonal()\n",
    "\n",
    "activation = ['sigmoid','tanh','relu']\n",
    "\n",
    "num_classes = 2\n",
    "learning_rate = 0.01\n",
    "epochs = 5\n",
    "\n",
    "def train_model(activation,initializer):\n",
    "\n",
    "    model = Sequential([\n",
    "      layers.Rescaling(1./255, input_shape=(img_height, img_width, 3)), #Standardize the data\n",
    "      layers.Conv2D(32, 3, padding='same', activation=activation,kernel_initializer=initializer),\n",
    "      layers.MaxPooling2D(),\n",
    "      layers.Conv2D(32, 3, padding='same', activation=activation,kernel_initializer=initializer),\n",
    "      layers.MaxPooling2D(),\n",
    "      layers.Conv2D(64, 3, padding='same', activation=activation,kernel_initializer=initializer),\n",
    "      layers.MaxPooling2D(),\n",
    "      layers.Flatten(),\n",
    "      layers.Dense(128, activation='relu',kernel_initializer=initializer),\n",
    "      layers.Dense(num_classes)\n",
    "    ])\n",
    "\n",
    "    #Momentum Stochastic Gradient Descent \n",
    "    sgd = keras.optimizers.SGD(learning_rate=learning_rate, momentum=0.9, nesterov=True)\n",
    "\n",
    "    model.compile(optimizer=sgd,\n",
    "                  loss=tf.keras.losses.SparseCategoricalCrossentropy(from_logits=True),\n",
    "                  metrics=['accuracy'])\n",
    "\n",
    "\n",
    "    history = model.fit(\n",
    "      train_ds,\n",
    "      validation_data=test_ds,\n",
    "      epochs=epochs)\n",
    "\n",
    "    perf = model.evaluate(test_ds)\n",
    "    print(perf)\n",
    "    \n",
    "    \n",
    "    return perf"
   ]
  },
  {
   "cell_type": "code",
   "execution_count": null,
   "metadata": {},
   "outputs": [],
   "source": [
    "list_model_tun = []\n",
    "for activation in ['sigmoid','tanh','relu']:\n",
    "    perf = train_model(activation,initializer2)\n",
    "    new_perf = [activation] +perf\n",
    "    print(new_perf)\n",
    "    list_model_tun += [new_perf]\n",
    "    "
   ]
  },
  {
   "cell_type": "code",
   "execution_count": null,
   "metadata": {},
   "outputs": [],
   "source": [
    "list_model_tun = []\n",
    "for init in [initializer1, initializer2,initializer3]:\n",
    "    perf = train_model('sigmoid',init)\n",
    "    new_perf = [activation] +perf\n",
    "    print(new_perf)\n",
    "    list_model_tun += [new_perf]\n",
    "    \n",
    "# Results   \n",
    "#['RandomNormal', 0.6928526163101196, 0.5133020281791687]\n",
    "#['Constant', 0.6931124925613403, 0.5133020281791687]\n",
    "#['Orthogonal', 0.6930662989616394, 0.5133020281791687]"
   ]
  },
  {
   "cell_type": "markdown",
   "metadata": {},
   "source": [
    "## MANUAL tuning for regularizer and dropout"
   ]
  },
  {
   "cell_type": "code",
   "execution_count": null,
   "metadata": {},
   "outputs": [],
   "source": [
    "from keras import regularizers\n",
    "def train_model(activation,kernel_regularizer, dropout_rate):\n",
    "\n",
    "    model = Sequential([\n",
    "      layers.Rescaling(1./255, input_shape=(img_height, img_width, 3)), #Standardize the data\n",
    "      layers.Conv2D(32, 3, padding='same', activation=activation,kernel_regularizer= reg),\n",
    "      layers.MaxPooling2D(),\n",
    "      layers.Conv2D(32, 3, padding='same', activation=activation,kernel_regularizer= reg),\n",
    "      layers.MaxPooling2D(),\n",
    "      layers.Conv2D(64, 3, padding='same', activation=activation,kernel_regularizer= reg),\n",
    "      layers.MaxPooling2D(),\n",
    "      layers.Flatten(),\n",
    "      layers.Dense(128, activation='relu',kernel_regularizer= reg),\n",
    "      layers.Dense(num_classes)\n",
    "    ])\n",
    "    \n",
    "    model.add(Dropout(dropout_rate, input_shape=(img_height, img_width, 3)))\n",
    "\n",
    "\n",
    "    #Momentum Stochastic Gradient Descent \n",
    "    sgd = keras.optimizers.SGD(learning_rate=learning_rate, momentum=0.9, nesterov=True)\n",
    "\n",
    "    model.compile(optimizer=sgd,\n",
    "                  loss=tf.keras.losses.SparseCategoricalCrossentropy(from_logits=True),\n",
    "                  metrics=['accuracy'])\n",
    "\n",
    "\n",
    "    history = model.fit(\n",
    "      train_ds,\n",
    "      validation_data=test_ds,\n",
    "      epochs=10)\n",
    "\n",
    "    perf = model.evaluate(test_ds)\n",
    "    print(perf)\n",
    "    return perf"
   ]
  },
  {
   "cell_type": "code",
   "execution_count": null,
   "metadata": {},
   "outputs": [],
   "source": [
    "kernel_regularizer1=regularizers.l1(0.01)\n",
    "kernel_regularizer2=regularizers.l2(0.01)\n",
    "\n",
    "k = 1\n",
    "for reg in [kernel_regularizer1,kernel_regularizer2]:\n",
    "    perf = train_model('sigmoid',reg)\n",
    "    new_perf = [k] +perf\n",
    "    print(new_perf)\n",
    "    list_model_tun += [new_perf]\n",
    "    k+=1"
   ]
  },
  {
   "cell_type": "code",
   "execution_count": null,
   "metadata": {},
   "outputs": [],
   "source": [
    "for drop in [0.2,0.4,0.6]:\n",
    "    perf = train_model('sigmoid',kernel_regularizer1,drop)\n",
    "    new_perf = [k] +perf\n",
    "    print(new_perf)\n",
    "    list_model_tun += [new_perf]\n",
    "    \n",
    "# Results\n",
    "#[0.2, 21.56456756591797, 0.4866979718208313],\n",
    "# [0.4, 12.804211616516113, 0.4866979718208313],\n",
    "# [0.6, 16.8350772857666, 0.5133020281791687]"
   ]
  }
 ],
 "metadata": {
  "colab": {
   "provenance": []
  },
  "kernelspec": {
   "display_name": "Python 3 (ipykernel)",
   "language": "python",
   "name": "python3"
  },
  "language_info": {
   "codemirror_mode": {
    "name": "ipython",
    "version": 3
   },
   "file_extension": ".py",
   "mimetype": "text/x-python",
   "name": "python",
   "nbconvert_exporter": "python",
   "pygments_lexer": "ipython3",
   "version": "3.8.5"
  },
  "toc": {
   "base_numbering": 1,
   "nav_menu": {},
   "number_sections": true,
   "sideBar": true,
   "skip_h1_title": false,
   "title_cell": "Table of Contents",
   "title_sidebar": "Contents",
   "toc_cell": false,
   "toc_position": {},
   "toc_section_display": true,
   "toc_window_display": false
  },
  "varInspector": {
   "cols": {
    "lenName": 16,
    "lenType": 16,
    "lenVar": 40
   },
   "kernels_config": {
    "python": {
     "delete_cmd_postfix": "",
     "delete_cmd_prefix": "del ",
     "library": "var_list.py",
     "varRefreshCmd": "print(var_dic_list())"
    },
    "r": {
     "delete_cmd_postfix": ") ",
     "delete_cmd_prefix": "rm(",
     "library": "var_list.r",
     "varRefreshCmd": "cat(var_dic_list()) "
    }
   },
   "types_to_exclude": [
    "module",
    "function",
    "builtin_function_or_method",
    "instance",
    "_Feature"
   ],
   "window_display": false
  }
 },
 "nbformat": 4,
 "nbformat_minor": 1
}
